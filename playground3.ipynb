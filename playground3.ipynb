{
 "cells": [
  {
   "metadata": {},
   "cell_type": "markdown",
   "source": "",
   "id": "d680eb7e6f22af08"
  },
  {
   "metadata": {},
   "cell_type": "markdown",
   "source": [
    "This code will:\n",
    "1. Find all `.tar.gz` files in a given directory\n",
    "2. Create a folder for each file using its name (without extension)\n",
    "3. Extract the contents of each `.tar.gz` file into its corresponding folder"
   ],
   "id": "a400b8dc74abbbf1"
  },
  {
   "metadata": {
    "ExecuteTime": {
     "end_time": "2025-07-31T18:57:36.858409Z",
     "start_time": "2025-07-31T18:57:36.855797Z"
    }
   },
   "cell_type": "code",
   "source": [
    "from tqdm import tqdm\n",
    "from src.data.util import get_files\n",
    "import os\n",
    "import glob\n",
    "import tarfile\n",
    "from pathlib import Path\n",
    "\n",
    "\n",
    "\n",
    "def extract_targz_files(source_dir):\n",
    "    # Find all .tar.gz files\n",
    "    targz_files = get_files(source_dir, '.tar.gz')\n",
    "\n",
    "    for file_path in tqdm(targz_files):\n",
    "        # Get filename without extension\n",
    "        filename = Path(file_path).stem\n",
    "\n",
    "        # Create extraction directory\n",
    "        extract_dir = Path(source_dir) / 'extracted'/filename\n",
    "        os.makedirs(extract_dir, exist_ok=True)\n",
    "\n",
    "        # Extract the file\n",
    "        with tarfile.open(file_path, 'r:gz') as tar:\n",
    "            print(f\"Extracting {filename}...\")\n",
    "            tar.extractall(path=extract_dir)"
   ],
   "id": "ab33bc3261c808c2",
   "outputs": [],
   "execution_count": 11
  },
  {
   "metadata": {},
   "cell_type": "code",
   "source": [
    "# Example usage with current directory\n",
    "extract_targz_files('/Volumes/Kieu4TB/gigaspeech/gigaspeech/data/')\n"
   ],
   "id": "c722fbd83bf737e1",
   "outputs": [],
   "execution_count": null
  }
 ],
 "metadata": {},
 "nbformat": 4,
 "nbformat_minor": 5
}
